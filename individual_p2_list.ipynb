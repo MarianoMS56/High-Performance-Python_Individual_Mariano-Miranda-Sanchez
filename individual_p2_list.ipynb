{
 "cells": [
  {
   "cell_type": "code",
   "execution_count": null,
   "metadata": {},
   "outputs": [],
   "source": [
    "# This cell contains some utility functions to prepare and execute the benchmarks\n",
    "import timeit\n",
    "from statistics import median\n",
    "from random import choice\n",
    "from string import ascii_uppercase\n",
    "\n",
    "def random_string(length):\n",
    "    \"\"\"Produce a random string made of *length* uppercase ascii characters\"\"\"\n",
    "    return ''.join(choice(ascii_uppercase) for i in range(length))\n",
    "\n",
    "def print_scaling(stmt, setup, sizes=[10000, 20000, 30000], repeat=False, units='us'):\n",
    "    \"\"\"Print scaling information for the statement *stmt*, executed after *setup*.\n",
    "    \n",
    "    The *setup* and *stmt* arguments take a template string where \"{N}\"\n",
    "    will be replaced as the size of the input.\n",
    "    \n",
    "    The *repeat* flags determined if the setup needs to be run between\n",
    "    each test run.\n",
    "    \"\"\"\n",
    "    values = []\n",
    "    for size in sizes:\n",
    "        if repeat:\n",
    "            timings = timeit.repeat(stmt.format(N=size),\n",
    "                                    setup=setup.format(N=size),\n",
    "                                    number=1, repeat=1000)\n",
    "            values.append(min(timings))\n",
    "        else:\n",
    "            timings = timeit.repeat(stmt.format(N=size),\n",
    "                                    setup=setup.format(N=size),\n",
    "                                    number=1000, repeat=3)\n",
    "            values.append(min(t/1000 for t in timings))\n",
    "    unit_factor = {'us': 1e6,\n",
    "                   'ms': 1e3}[units]\n",
    "    \n",
    "    print(' | '.join('N = {} t = {:.2f} ({})'.format(n, t * unit_factor, units) for n, t in zip(sizes, values)))"
   ]
  },
  {
   "cell_type": "code",
   "execution_count": null,
   "metadata": {},
   "outputs": [
    {
     "name": "stdout",
     "output_type": "stream",
     "text": [
      "N = 10000 t = 0.02 (us) | N = 20000 t = 0.02 (us) | N = 30000 t = 0.02 (us)\n",
      "N = 10000 t = 1.33 (us) | N = 20000 t = 2.29 (us) | N = 30000 t = 4.08 (us)\n",
      "N = 10000 t = 0.03 (us) | N = 20000 t = 0.02 (us) | N = 30000 t = 0.02 (us)\n",
      "N = 10000 t = 2.07 (us) | N = 20000 t = 3.52 (us) | N = 30000 t = 5.24 (us)\n",
      "N = 10000 t = 0.91 (us) | N = 20000 t = 2.54 (us) | N = 30000 t = 4.19 (us)\n"
     ]
    }
   ],
   "source": [
    "print_scaling('collection.pop()',\n",
    "              setup='collection = list(range({N}))')\n",
    "\n",
    "print_scaling('collection.pop(0)',\n",
    "              setup='collection = list(range({N}))')\n",
    "\n",
    "print_scaling('collection.append(1)',\n",
    "                        setup='collection = list(range({N}))')\n",
    "\n",
    "print_scaling('collection.insert(0, 1)',\n",
    "              setup='collection = list(range({N}))')\n",
    "\n",
    "print_scaling('collection.insert(5000, 1)',\n",
    "              setup='collection = list(range({N}))')"
   ]
  },
  {
   "cell_type": "code",
   "execution_count": null,
   "metadata": {},
   "outputs": [
    {
     "name": "stdout",
     "output_type": "stream",
     "text": [
      "N = 10000 t = 16.94 (us) | N = 20000 t = 26.53 (us) | N = 30000 t = 40.39 (us)\n"
     ]
    }
   ],
   "source": [
    "setup_code = '''\n",
    "import random\n",
    "random.seed(42)\n",
    "\n",
    "collection = list(range({N}))\n",
    "'''\n",
    "print_scaling('collection.index(random.randint(0, {N}))',\n",
    "              setup=setup_code)"
   ]
  },
  {
   "cell_type": "code",
   "execution_count": null,
   "metadata": {},
   "outputs": [
    {
     "name": "stdout",
     "output_type": "stream",
     "text": [
      "N = 10000 t = 0.58 (us) | N = 20000 t = 1.13 (us) | N = 30000 t = 1.19 (us)\n"
     ]
    }
   ],
   "source": [
    "from bisect import bisect_left\n",
    "\n",
    "def index_bisect(a, x):\n",
    "    'Locate the leftmost value exactly equal to x'\n",
    "    i = bisect_left(a, x)\n",
    "    if i != len(a) and a[i] == x:\n",
    "        return i\n",
    "    raise ValueError\n",
    "\n",
    "setup_code = '''\n",
    "from __main__ import index_bisect\n",
    "\n",
    "import random\n",
    "random.seed(42)\n",
    "\n",
    "collection = list(range({N}))\n",
    "'''\n",
    "    \n",
    "print_scaling('index_bisect(collection, random.randint(0, {N}))',\n",
    "              setup=setup_code)"
   ]
  },
  {
   "cell_type": "code",
   "execution_count": null,
   "metadata": {},
   "outputs": [
    {
     "name": "stdout",
     "output_type": "stream",
     "text": [
      "Timing for deque access with 10000 elements:\n",
      "a. deq[0]: 0.000000 seconds\n",
      "b. deq[-1]: 0.000000 seconds\n",
      "c. deq[int(N/2)]: 0.000000 seconds\n",
      "---\n",
      "Timing for deque access with 20000 elements:\n",
      "a. deq[0]: 0.000000 seconds\n",
      "b. deq[-1]: 0.000000 seconds\n",
      "c. deq[int(N/2)]: 0.000000 seconds\n",
      "---\n",
      "Timing for deque access with 30000 elements:\n",
      "a. deq[0]: 0.000000 seconds\n",
      "b. deq[-1]: 0.000000 seconds\n",
      "c. deq[int(N/2)]: 0.000000 seconds\n",
      "---\n"
     ]
    }
   ],
   "source": [
    "from collections import deque\n",
    "import timeit\n",
    "\n",
    "# Define the access operations to measure for deque\n",
    "access_operations = {\n",
    "    'a': 'deq[0]',\n",
    "    'b': 'deq[-1]',\n",
    "    'c': 'deq[int(N/2)]'  # Accessing the middle element\n",
    "}\n",
    "\n",
    "# List sizes to test\n",
    "sizes = [10000, 20000, 30000]\n",
    "\n",
    "# Perform the measurements for deque access operations\n",
    "for size in sizes:\n",
    "    setup_code = f\"from collections import deque\\nN = {size}\\ndeq = deque(range(N))\"\n",
    "\n",
    "    print(f'Timing for deque access with {size} elements:')\n",
    "    \n",
    "    # Measure access time for each operation\n",
    "    for op, code in access_operations.items():\n",
    "        time_taken = timeit.timeit(stmt=code, setup=setup_code, number=10000)\n",
    "        print(f'{op}. {code}: {time_taken / 10000:.6f} seconds')\n",
    "    \n",
    "    print('---')"
   ]
  },
  {
   "cell_type": "code",
   "execution_count": null,
   "metadata": {},
   "outputs": [
    {
     "name": "stdout",
     "output_type": "stream",
     "text": [
      "N = 10000 t = 0.02 (us) | N = 20000 t = 0.02 (us) | N = 30000 t = 0.02 (us)\n",
      "N = 10000 t = 0.02 (us) | N = 20000 t = 0.02 (us) | N = 30000 t = 0.02 (us)\n",
      "N = 10000 t = 0.02 (us) | N = 20000 t = 0.03 (us) | N = 30000 t = 0.03 (us)\n",
      "N = 10000 t = 0.03 (us) | N = 20000 t = 0.02 (us) | N = 30000 t = 0.02 (us)\n"
     ]
    }
   ],
   "source": [
    "print_scaling('collection.pop()',\n",
    "              setup='from collections import deque; collection = deque(range({N}))')\n",
    "\n",
    "\n",
    "print_scaling('collection.popleft()',\n",
    "              setup='from collections import deque; collection = deque(range({N}))')\n",
    "\n",
    "\n",
    "print_scaling('collection.append(1)',\n",
    "              setup='from collections import deque; collection = deque(range({N}))')\n",
    "\n",
    "print_scaling('collection.appendleft(1)',\n",
    "              setup='from collections import deque; collection = deque(range({N}))')"
   ]
  },
  {
   "cell_type": "code",
   "execution_count": null,
   "metadata": {},
   "outputs": [
    {
     "name": "stdout",
     "output_type": "stream",
     "text": [
      "N = 10000 t = 0.01 (us) | N = 20000 t = 0.01 (us) | N = 30000 t = 0.01 (us)\n",
      "N = 10000 t = 0.01 (us) | N = 20000 t = 0.01 (us) | N = 30000 t = 0.01 (us)\n",
      "N = 10000 t = 0.14 (us) | N = 20000 t = 0.23 (us) | N = 30000 t = 0.30 (us)\n"
     ]
    }
   ],
   "source": [
    "print_scaling('collection[0]',\n",
    "              setup='from collections import deque; collection = deque(range({N}))')\n",
    "print_scaling('collection[{N} - 1]',\n",
    "              setup='from collections import deque; collection = deque(range({N}))')\n",
    "print_scaling('collection[int({N}/2)]',\n",
    "              setup='from collections import deque; collection = deque(range({N}))')"
   ]
  }
 ],
 "metadata": {
  "kernelspec": {
   "display_name": "Python 3",
   "language": "python",
   "name": "python3"
  },
  "language_info": {
   "codemirror_mode": {
    "name": "ipython",
    "version": 3
   },
   "file_extension": ".py",
   "mimetype": "text/x-python",
   "name": "python",
   "nbconvert_exporter": "python",
   "pygments_lexer": "ipython3",
   "version": "3.12.2"
  }
 },
 "nbformat": 4,
 "nbformat_minor": 2
}
